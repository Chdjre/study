{
  "nbformat": 4,
  "nbformat_minor": 0,
  "metadata": {
    "kernelspec": {
      "display_name": "Python 3",
      "language": "python",
      "name": "python3"
    },
    "language_info": {
      "codemirror_mode": {
        "name": "ipython",
        "version": 3
      },
      "file_extension": ".py",
      "mimetype": "text/x-python",
      "name": "python",
      "nbconvert_exporter": "python",
      "pygments_lexer": "ipython3",
      "version": "3.8.3"
    },
    "colab": {
      "name": "课程设计-计算权重.ipynb",
      "provenance": [],
      "include_colab_link": true
    }
  },
  "cells": [
    {
      "cell_type": "markdown",
      "metadata": {
        "id": "view-in-github",
        "colab_type": "text"
      },
      "source": [
        "<a href=\"https://colab.research.google.com/github/Chdjre/study/blob/master/%E8%AF%BE%E7%A8%8B%E8%AE%BE%E8%AE%A1_%E8%AE%A1%E7%AE%97%E6%9D%83%E9%87%8D.ipynb\" target=\"_parent\"><img src=\"https://colab.research.google.com/assets/colab-badge.svg\" alt=\"Open In Colab\"/></a>"
      ]
    },
    {
      "cell_type": "markdown",
      "metadata": {
        "id": "s4njZT-zCpqI"
      },
      "source": [
        "#  数据处理"
      ]
    },
    {
      "cell_type": "code",
      "metadata": {
        "colab": {
          "base_uri": "https://localhost:8080/"
        },
        "id": "wiVIzZpLCpqc",
        "outputId": "4ecab01c-711b-48a2-eeae-7907dd87983d"
      },
      "source": [
        "from google.colab import drive\n",
        "drive.mount('/content/drive')"
      ],
      "execution_count": null,
      "outputs": [
        {
          "output_type": "stream",
          "text": [
            "Mounted at /content/drive\n"
          ],
          "name": "stdout"
        }
      ]
    },
    {
      "cell_type": "code",
      "metadata": {
        "id": "2h3us0JACpqe"
      },
      "source": [
        "import os\n",
        "os.chdir('/content/drive/My Drive/课程设计')"
      ],
      "execution_count": null,
      "outputs": []
    },
    {
      "cell_type": "code",
      "metadata": {
        "colab": {
          "base_uri": "https://localhost:8080/",
          "height": 456
        },
        "id": "mxpYJRt3Cpqf",
        "outputId": "0d5bdb81-53a1-4881-f843-516dcd07e926"
      },
      "source": [
        "import pandas as pd\n",
        "df=pd.read_csv(\"data for cluster.csv\")\n",
        "df"
      ],
      "execution_count": null,
      "outputs": [
        {
          "output_type": "execute_result",
          "data": {
            "text/html": [
              "<div>\n",
              "<style scoped>\n",
              "    .dataframe tbody tr th:only-of-type {\n",
              "        vertical-align: middle;\n",
              "    }\n",
              "\n",
              "    .dataframe tbody tr th {\n",
              "        vertical-align: top;\n",
              "    }\n",
              "\n",
              "    .dataframe thead th {\n",
              "        text-align: right;\n",
              "    }\n",
              "</style>\n",
              "<table border=\"1\" class=\"dataframe\">\n",
              "  <thead>\n",
              "    <tr style=\"text-align: right;\">\n",
              "      <th></th>\n",
              "      <th>Unnamed: 0</th>\n",
              "      <th>Id</th>\n",
              "      <th>like_count</th>\n",
              "      <th>post_likes_count</th>\n",
              "      <th>post_collections_count</th>\n",
              "      <th>post_repost_count</th>\n",
              "      <th>post_count</th>\n",
              "      <th>post_reply_count</th>\n",
              "      <th>reply_count</th>\n",
              "      <th>reply_likes_count</th>\n",
              "    </tr>\n",
              "  </thead>\n",
              "  <tbody>\n",
              "    <tr>\n",
              "      <th>0</th>\n",
              "      <td>0</td>\n",
              "      <td>189892290</td>\n",
              "      <td>1.0</td>\n",
              "      <td>NaN</td>\n",
              "      <td>NaN</td>\n",
              "      <td>NaN</td>\n",
              "      <td>NaN</td>\n",
              "      <td>NaN</td>\n",
              "      <td>NaN</td>\n",
              "      <td>NaN</td>\n",
              "    </tr>\n",
              "    <tr>\n",
              "      <th>1</th>\n",
              "      <td>1</td>\n",
              "      <td>181008451</td>\n",
              "      <td>16.0</td>\n",
              "      <td>NaN</td>\n",
              "      <td>NaN</td>\n",
              "      <td>NaN</td>\n",
              "      <td>NaN</td>\n",
              "      <td>NaN</td>\n",
              "      <td>NaN</td>\n",
              "      <td>NaN</td>\n",
              "    </tr>\n",
              "    <tr>\n",
              "      <th>2</th>\n",
              "      <td>2</td>\n",
              "      <td>141959692</td>\n",
              "      <td>1.0</td>\n",
              "      <td>NaN</td>\n",
              "      <td>NaN</td>\n",
              "      <td>NaN</td>\n",
              "      <td>NaN</td>\n",
              "      <td>NaN</td>\n",
              "      <td>1.0</td>\n",
              "      <td>0.0</td>\n",
              "    </tr>\n",
              "    <tr>\n",
              "      <th>3</th>\n",
              "      <td>3</td>\n",
              "      <td>OuTopos531</td>\n",
              "      <td>1.0</td>\n",
              "      <td>NaN</td>\n",
              "      <td>NaN</td>\n",
              "      <td>NaN</td>\n",
              "      <td>NaN</td>\n",
              "      <td>NaN</td>\n",
              "      <td>NaN</td>\n",
              "      <td>NaN</td>\n",
              "    </tr>\n",
              "    <tr>\n",
              "      <th>4</th>\n",
              "      <td>4</td>\n",
              "      <td>88143349</td>\n",
              "      <td>1.0</td>\n",
              "      <td>NaN</td>\n",
              "      <td>NaN</td>\n",
              "      <td>NaN</td>\n",
              "      <td>NaN</td>\n",
              "      <td>NaN</td>\n",
              "      <td>NaN</td>\n",
              "      <td>NaN</td>\n",
              "    </tr>\n",
              "    <tr>\n",
              "      <th>...</th>\n",
              "      <td>...</td>\n",
              "      <td>...</td>\n",
              "      <td>...</td>\n",
              "      <td>...</td>\n",
              "      <td>...</td>\n",
              "      <td>...</td>\n",
              "      <td>...</td>\n",
              "      <td>...</td>\n",
              "      <td>...</td>\n",
              "      <td>...</td>\n",
              "    </tr>\n",
              "    <tr>\n",
              "      <th>9678</th>\n",
              "      <td>9678</td>\n",
              "      <td>191611318</td>\n",
              "      <td>NaN</td>\n",
              "      <td>NaN</td>\n",
              "      <td>NaN</td>\n",
              "      <td>NaN</td>\n",
              "      <td>NaN</td>\n",
              "      <td>NaN</td>\n",
              "      <td>3.0</td>\n",
              "      <td>1.0</td>\n",
              "    </tr>\n",
              "    <tr>\n",
              "      <th>9679</th>\n",
              "      <td>9679</td>\n",
              "      <td>224115455</td>\n",
              "      <td>NaN</td>\n",
              "      <td>NaN</td>\n",
              "      <td>NaN</td>\n",
              "      <td>NaN</td>\n",
              "      <td>NaN</td>\n",
              "      <td>NaN</td>\n",
              "      <td>1.0</td>\n",
              "      <td>0.0</td>\n",
              "    </tr>\n",
              "    <tr>\n",
              "      <th>9680</th>\n",
              "      <td>9680</td>\n",
              "      <td>220929267</td>\n",
              "      <td>NaN</td>\n",
              "      <td>NaN</td>\n",
              "      <td>NaN</td>\n",
              "      <td>NaN</td>\n",
              "      <td>NaN</td>\n",
              "      <td>NaN</td>\n",
              "      <td>1.0</td>\n",
              "      <td>1.0</td>\n",
              "    </tr>\n",
              "    <tr>\n",
              "      <th>9681</th>\n",
              "      <td>9681</td>\n",
              "      <td>216257139</td>\n",
              "      <td>NaN</td>\n",
              "      <td>NaN</td>\n",
              "      <td>NaN</td>\n",
              "      <td>NaN</td>\n",
              "      <td>NaN</td>\n",
              "      <td>NaN</td>\n",
              "      <td>1.0</td>\n",
              "      <td>3.0</td>\n",
              "    </tr>\n",
              "    <tr>\n",
              "      <th>9682</th>\n",
              "      <td>9682</td>\n",
              "      <td>197065724</td>\n",
              "      <td>NaN</td>\n",
              "      <td>NaN</td>\n",
              "      <td>NaN</td>\n",
              "      <td>NaN</td>\n",
              "      <td>NaN</td>\n",
              "      <td>NaN</td>\n",
              "      <td>1.0</td>\n",
              "      <td>0.0</td>\n",
              "    </tr>\n",
              "  </tbody>\n",
              "</table>\n",
              "<p>9683 rows × 10 columns</p>\n",
              "</div>"
            ],
            "text/plain": [
              "      Unnamed: 0          Id  ...  reply_count  reply_likes_count\n",
              "0              0   189892290  ...          NaN                NaN\n",
              "1              1   181008451  ...          NaN                NaN\n",
              "2              2   141959692  ...          1.0                0.0\n",
              "3              3  OuTopos531  ...          NaN                NaN\n",
              "4              4    88143349  ...          NaN                NaN\n",
              "...          ...         ...  ...          ...                ...\n",
              "9678        9678   191611318  ...          3.0                1.0\n",
              "9679        9679   224115455  ...          1.0                0.0\n",
              "9680        9680   220929267  ...          1.0                1.0\n",
              "9681        9681   216257139  ...          1.0                3.0\n",
              "9682        9682   197065724  ...          1.0                0.0\n",
              "\n",
              "[9683 rows x 10 columns]"
            ]
          },
          "metadata": {
            "tags": []
          },
          "execution_count": 3
        }
      ]
    },
    {
      "cell_type": "markdown",
      "metadata": {
        "id": "N7dQkPzeCpqi"
      },
      "source": [
        "各字段含义：\n",
        "like_count:给出的赞\n",
        "post_likes_count:发帖被点赞数\n",
        "post_collections_count：发帖被收藏数\n",
        "post_repost_count：发帖被转发数\n",
        "post_count：发帖数\n",
        "post_reply_count：发帖被回复数\n",
        "reply_count：回复数\n",
        "reply_likes_count：回复被点赞数"
      ]
    },
    {
      "cell_type": "code",
      "metadata": {
        "colab": {
          "base_uri": "https://localhost:8080/",
          "height": 173
        },
        "id": "UySfsxC8Cpqj",
        "outputId": "dced9c6a-0b48-46aa-eddb-d37f8b6fca19"
      },
      "source": [
        "dd=pd.read_csv(\"matrix.csv\",names=['post_repost_count','post_reply_count','post_collections_count','post_likes_count'])\n",
        "dd"
      ],
      "execution_count": null,
      "outputs": [
        {
          "output_type": "execute_result",
          "data": {
            "text/html": [
              "<div>\n",
              "<style scoped>\n",
              "    .dataframe tbody tr th:only-of-type {\n",
              "        vertical-align: middle;\n",
              "    }\n",
              "\n",
              "    .dataframe tbody tr th {\n",
              "        vertical-align: top;\n",
              "    }\n",
              "\n",
              "    .dataframe thead th {\n",
              "        text-align: right;\n",
              "    }\n",
              "</style>\n",
              "<table border=\"1\" class=\"dataframe\">\n",
              "  <thead>\n",
              "    <tr style=\"text-align: right;\">\n",
              "      <th></th>\n",
              "      <th>post_repost_count</th>\n",
              "      <th>post_reply_count</th>\n",
              "      <th>post_collections_count</th>\n",
              "      <th>post_likes_count</th>\n",
              "    </tr>\n",
              "  </thead>\n",
              "  <tbody>\n",
              "    <tr>\n",
              "      <th>0</th>\n",
              "      <td>1.000000</td>\n",
              "      <td>1.153846</td>\n",
              "      <td>1.101538</td>\n",
              "      <td>1.190769</td>\n",
              "    </tr>\n",
              "    <tr>\n",
              "      <th>1</th>\n",
              "      <td>0.866667</td>\n",
              "      <td>1.000000</td>\n",
              "      <td>1.184615</td>\n",
              "      <td>1.286154</td>\n",
              "    </tr>\n",
              "    <tr>\n",
              "      <th>2</th>\n",
              "      <td>0.907821</td>\n",
              "      <td>0.844156</td>\n",
              "      <td>1.000000</td>\n",
              "      <td>1.236923</td>\n",
              "    </tr>\n",
              "    <tr>\n",
              "      <th>3</th>\n",
              "      <td>0.839793</td>\n",
              "      <td>0.777512</td>\n",
              "      <td>0.808458</td>\n",
              "      <td>1.000000</td>\n",
              "    </tr>\n",
              "  </tbody>\n",
              "</table>\n",
              "</div>"
            ],
            "text/plain": [
              "   post_repost_count  ...  post_likes_count\n",
              "0           1.000000  ...          1.190769\n",
              "1           0.866667  ...          1.286154\n",
              "2           0.907821  ...          1.236923\n",
              "3           0.839793  ...          1.000000\n",
              "\n",
              "[4 rows x 4 columns]"
            ]
          },
          "metadata": {
            "tags": []
          },
          "execution_count": 4
        }
      ]
    },
    {
      "cell_type": "code",
      "metadata": {
        "colab": {
          "base_uri": "https://localhost:8080/"
        },
        "id": "siF2xHHJCpql",
        "outputId": "5c2c35f2-8162-48d5-a699-f1d4b54f2525"
      },
      "source": [
        "import numpy as np\n",
        "import numpy.linalg as npla\n",
        "sum=np.sum(dd,axis=0)\n",
        "col_arv=dd/sum\n",
        "w=np.sum(col_arv,axis=1)\n",
        "w_n=w/np.sum(w)\n",
        "print(\"得出的权重为：\")\n",
        "print(w_n)\n",
        "print(\"最大特征值为\",np.max(npla.eig(dd)[0]))"
      ],
      "execution_count": null,
      "outputs": [
        {
          "output_type": "stream",
          "text": [
            "得出的权重为：\n",
            "0    0.275981\n",
            "1    0.266703\n",
            "2    0.245347\n",
            "3    0.211969\n",
            "dtype: float64\n",
            "最大特征值为 (4.008144100012115+0j)\n"
          ],
          "name": "stdout"
        }
      ]
    },
    {
      "cell_type": "markdown",
      "metadata": {
        "id": "YLJd6DzjCpqm"
      },
      "source": [
        "最大特征值和矩阵的维数4差不多，运用该方法得出的结果合理。"
      ]
    },
    {
      "cell_type": "code",
      "metadata": {
        "colab": {
          "base_uri": "https://localhost:8080/"
        },
        "id": "cRkkSh1NCpqn",
        "outputId": "d6b4f4e4-1286-4d20-94f4-c4ae96568597"
      },
      "source": [
        "w_n.tolist()"
      ],
      "execution_count": null,
      "outputs": [
        {
          "output_type": "execute_result",
          "data": {
            "text/plain": [
              "[0.2759814092600064,\n",
              " 0.2667027153342267,\n",
              " 0.24534716247895408,\n",
              " 0.21196871292681288]"
            ]
          },
          "metadata": {
            "tags": []
          },
          "execution_count": 6
        }
      ]
    },
    {
      "cell_type": "code",
      "metadata": {
        "id": "3XvHyPvmCpqp"
      },
      "source": [
        "post_quality=[]\n",
        "x=np.mat(w_n.tolist())*np.mat(df[['post_repost_count','post_reply_count','post_collections_count','post_likes_count']]).T\n",
        "df['post_quality']=x.tolist()[0]"
      ],
      "execution_count": null,
      "outputs": []
    },
    {
      "cell_type": "code",
      "metadata": {
        "colab": {
          "base_uri": "https://localhost:8080/",
          "height": 419
        },
        "id": "FrE489I5Cpqr",
        "outputId": "6146990b-7f15-4b80-9b16-ac35fea35e4c"
      },
      "source": [
        "df.drop(['post_repost_count','post_reply_count','post_collections_count','post_likes_count','Unnamed: 0'],axis=1,inplace=True)\n",
        "df"
      ],
      "execution_count": null,
      "outputs": [
        {
          "output_type": "execute_result",
          "data": {
            "text/html": [
              "<div>\n",
              "<style scoped>\n",
              "    .dataframe tbody tr th:only-of-type {\n",
              "        vertical-align: middle;\n",
              "    }\n",
              "\n",
              "    .dataframe tbody tr th {\n",
              "        vertical-align: top;\n",
              "    }\n",
              "\n",
              "    .dataframe thead th {\n",
              "        text-align: right;\n",
              "    }\n",
              "</style>\n",
              "<table border=\"1\" class=\"dataframe\">\n",
              "  <thead>\n",
              "    <tr style=\"text-align: right;\">\n",
              "      <th></th>\n",
              "      <th>Id</th>\n",
              "      <th>like_count</th>\n",
              "      <th>post_count</th>\n",
              "      <th>reply_count</th>\n",
              "      <th>reply_likes_count</th>\n",
              "      <th>post_quality</th>\n",
              "    </tr>\n",
              "  </thead>\n",
              "  <tbody>\n",
              "    <tr>\n",
              "      <th>0</th>\n",
              "      <td>189892290</td>\n",
              "      <td>1.0</td>\n",
              "      <td>NaN</td>\n",
              "      <td>NaN</td>\n",
              "      <td>NaN</td>\n",
              "      <td>NaN</td>\n",
              "    </tr>\n",
              "    <tr>\n",
              "      <th>1</th>\n",
              "      <td>181008451</td>\n",
              "      <td>16.0</td>\n",
              "      <td>NaN</td>\n",
              "      <td>NaN</td>\n",
              "      <td>NaN</td>\n",
              "      <td>NaN</td>\n",
              "    </tr>\n",
              "    <tr>\n",
              "      <th>2</th>\n",
              "      <td>141959692</td>\n",
              "      <td>1.0</td>\n",
              "      <td>NaN</td>\n",
              "      <td>1.0</td>\n",
              "      <td>0.0</td>\n",
              "      <td>NaN</td>\n",
              "    </tr>\n",
              "    <tr>\n",
              "      <th>3</th>\n",
              "      <td>OuTopos531</td>\n",
              "      <td>1.0</td>\n",
              "      <td>NaN</td>\n",
              "      <td>NaN</td>\n",
              "      <td>NaN</td>\n",
              "      <td>NaN</td>\n",
              "    </tr>\n",
              "    <tr>\n",
              "      <th>4</th>\n",
              "      <td>88143349</td>\n",
              "      <td>1.0</td>\n",
              "      <td>NaN</td>\n",
              "      <td>NaN</td>\n",
              "      <td>NaN</td>\n",
              "      <td>NaN</td>\n",
              "    </tr>\n",
              "    <tr>\n",
              "      <th>...</th>\n",
              "      <td>...</td>\n",
              "      <td>...</td>\n",
              "      <td>...</td>\n",
              "      <td>...</td>\n",
              "      <td>...</td>\n",
              "      <td>...</td>\n",
              "    </tr>\n",
              "    <tr>\n",
              "      <th>9678</th>\n",
              "      <td>191611318</td>\n",
              "      <td>NaN</td>\n",
              "      <td>NaN</td>\n",
              "      <td>3.0</td>\n",
              "      <td>1.0</td>\n",
              "      <td>NaN</td>\n",
              "    </tr>\n",
              "    <tr>\n",
              "      <th>9679</th>\n",
              "      <td>224115455</td>\n",
              "      <td>NaN</td>\n",
              "      <td>NaN</td>\n",
              "      <td>1.0</td>\n",
              "      <td>0.0</td>\n",
              "      <td>NaN</td>\n",
              "    </tr>\n",
              "    <tr>\n",
              "      <th>9680</th>\n",
              "      <td>220929267</td>\n",
              "      <td>NaN</td>\n",
              "      <td>NaN</td>\n",
              "      <td>1.0</td>\n",
              "      <td>1.0</td>\n",
              "      <td>NaN</td>\n",
              "    </tr>\n",
              "    <tr>\n",
              "      <th>9681</th>\n",
              "      <td>216257139</td>\n",
              "      <td>NaN</td>\n",
              "      <td>NaN</td>\n",
              "      <td>1.0</td>\n",
              "      <td>3.0</td>\n",
              "      <td>NaN</td>\n",
              "    </tr>\n",
              "    <tr>\n",
              "      <th>9682</th>\n",
              "      <td>197065724</td>\n",
              "      <td>NaN</td>\n",
              "      <td>NaN</td>\n",
              "      <td>1.0</td>\n",
              "      <td>0.0</td>\n",
              "      <td>NaN</td>\n",
              "    </tr>\n",
              "  </tbody>\n",
              "</table>\n",
              "<p>9683 rows × 6 columns</p>\n",
              "</div>"
            ],
            "text/plain": [
              "              Id  like_count  ...  reply_likes_count  post_quality\n",
              "0      189892290         1.0  ...                NaN           NaN\n",
              "1      181008451        16.0  ...                NaN           NaN\n",
              "2      141959692         1.0  ...                0.0           NaN\n",
              "3     OuTopos531         1.0  ...                NaN           NaN\n",
              "4       88143349         1.0  ...                NaN           NaN\n",
              "...          ...         ...  ...                ...           ...\n",
              "9678   191611318         NaN  ...                1.0           NaN\n",
              "9679   224115455         NaN  ...                0.0           NaN\n",
              "9680   220929267         NaN  ...                1.0           NaN\n",
              "9681   216257139         NaN  ...                3.0           NaN\n",
              "9682   197065724         NaN  ...                0.0           NaN\n",
              "\n",
              "[9683 rows x 6 columns]"
            ]
          },
          "metadata": {
            "tags": []
          },
          "execution_count": 8
        }
      ]
    },
    {
      "cell_type": "markdown",
      "metadata": {
        "id": "tLsOiTVrCpqs"
      },
      "source": [
        "聚类用到的特征\n",
        "post_count：发帖数\n",
        "reply_count：回复数\n",
        "post_quality：发帖质量"
      ]
    },
    {
      "cell_type": "code",
      "metadata": {
        "id": "9LWtu9GZCpqs",
        "outputId": "18844f13-aacf-41fb-818e-fadc428ba039"
      },
      "source": [
        "df.drop(['like_count','reply_likes_count'],axis=1,inplace=True)\n",
        "df"
      ],
      "execution_count": null,
      "outputs": [
        {
          "output_type": "execute_result",
          "data": {
            "text/html": [
              "<div>\n",
              "<style scoped>\n",
              "    .dataframe tbody tr th:only-of-type {\n",
              "        vertical-align: middle;\n",
              "    }\n",
              "\n",
              "    .dataframe tbody tr th {\n",
              "        vertical-align: top;\n",
              "    }\n",
              "\n",
              "    .dataframe thead th {\n",
              "        text-align: right;\n",
              "    }\n",
              "</style>\n",
              "<table border=\"1\" class=\"dataframe\">\n",
              "  <thead>\n",
              "    <tr style=\"text-align: right;\">\n",
              "      <th></th>\n",
              "      <th>Id</th>\n",
              "      <th>post_count</th>\n",
              "      <th>reply_count</th>\n",
              "      <th>post_quality</th>\n",
              "    </tr>\n",
              "  </thead>\n",
              "  <tbody>\n",
              "    <tr>\n",
              "      <th>0</th>\n",
              "      <td>189892290</td>\n",
              "      <td>NaN</td>\n",
              "      <td>NaN</td>\n",
              "      <td>NaN</td>\n",
              "    </tr>\n",
              "    <tr>\n",
              "      <th>1</th>\n",
              "      <td>181008451</td>\n",
              "      <td>NaN</td>\n",
              "      <td>NaN</td>\n",
              "      <td>NaN</td>\n",
              "    </tr>\n",
              "    <tr>\n",
              "      <th>2</th>\n",
              "      <td>141959692</td>\n",
              "      <td>NaN</td>\n",
              "      <td>1.0</td>\n",
              "      <td>NaN</td>\n",
              "    </tr>\n",
              "    <tr>\n",
              "      <th>3</th>\n",
              "      <td>OuTopos531</td>\n",
              "      <td>NaN</td>\n",
              "      <td>NaN</td>\n",
              "      <td>NaN</td>\n",
              "    </tr>\n",
              "    <tr>\n",
              "      <th>4</th>\n",
              "      <td>88143349</td>\n",
              "      <td>NaN</td>\n",
              "      <td>NaN</td>\n",
              "      <td>NaN</td>\n",
              "    </tr>\n",
              "    <tr>\n",
              "      <th>...</th>\n",
              "      <td>...</td>\n",
              "      <td>...</td>\n",
              "      <td>...</td>\n",
              "      <td>...</td>\n",
              "    </tr>\n",
              "    <tr>\n",
              "      <th>9678</th>\n",
              "      <td>191611318</td>\n",
              "      <td>NaN</td>\n",
              "      <td>3.0</td>\n",
              "      <td>NaN</td>\n",
              "    </tr>\n",
              "    <tr>\n",
              "      <th>9679</th>\n",
              "      <td>224115455</td>\n",
              "      <td>NaN</td>\n",
              "      <td>1.0</td>\n",
              "      <td>NaN</td>\n",
              "    </tr>\n",
              "    <tr>\n",
              "      <th>9680</th>\n",
              "      <td>220929267</td>\n",
              "      <td>NaN</td>\n",
              "      <td>1.0</td>\n",
              "      <td>NaN</td>\n",
              "    </tr>\n",
              "    <tr>\n",
              "      <th>9681</th>\n",
              "      <td>216257139</td>\n",
              "      <td>NaN</td>\n",
              "      <td>1.0</td>\n",
              "      <td>NaN</td>\n",
              "    </tr>\n",
              "    <tr>\n",
              "      <th>9682</th>\n",
              "      <td>197065724</td>\n",
              "      <td>NaN</td>\n",
              "      <td>1.0</td>\n",
              "      <td>NaN</td>\n",
              "    </tr>\n",
              "  </tbody>\n",
              "</table>\n",
              "<p>9683 rows × 4 columns</p>\n",
              "</div>"
            ],
            "text/plain": [
              "              Id  post_count  reply_count  post_quality\n",
              "0      189892290         NaN          NaN           NaN\n",
              "1      181008451         NaN          NaN           NaN\n",
              "2      141959692         NaN          1.0           NaN\n",
              "3     OuTopos531         NaN          NaN           NaN\n",
              "4       88143349         NaN          NaN           NaN\n",
              "...          ...         ...          ...           ...\n",
              "9678   191611318         NaN          3.0           NaN\n",
              "9679   224115455         NaN          1.0           NaN\n",
              "9680   220929267         NaN          1.0           NaN\n",
              "9681   216257139         NaN          1.0           NaN\n",
              "9682   197065724         NaN          1.0           NaN\n",
              "\n",
              "[9683 rows x 4 columns]"
            ]
          },
          "metadata": {
            "tags": []
          },
          "execution_count": 32
        }
      ]
    },
    {
      "cell_type": "code",
      "metadata": {
        "colab": {
          "base_uri": "https://localhost:8080/",
          "height": 419
        },
        "id": "g1k6mVx8Cpqv",
        "outputId": "9c744474-2acf-4207-e3b6-17b3b1c12193"
      },
      "source": [
        "df.fillna(0,inplace=True)\n",
        "df"
      ],
      "execution_count": null,
      "outputs": [
        {
          "output_type": "execute_result",
          "data": {
            "text/html": [
              "<div>\n",
              "<style scoped>\n",
              "    .dataframe tbody tr th:only-of-type {\n",
              "        vertical-align: middle;\n",
              "    }\n",
              "\n",
              "    .dataframe tbody tr th {\n",
              "        vertical-align: top;\n",
              "    }\n",
              "\n",
              "    .dataframe thead th {\n",
              "        text-align: right;\n",
              "    }\n",
              "</style>\n",
              "<table border=\"1\" class=\"dataframe\">\n",
              "  <thead>\n",
              "    <tr style=\"text-align: right;\">\n",
              "      <th></th>\n",
              "      <th>Id</th>\n",
              "      <th>like_count</th>\n",
              "      <th>post_count</th>\n",
              "      <th>reply_count</th>\n",
              "      <th>reply_likes_count</th>\n",
              "      <th>post_quality</th>\n",
              "    </tr>\n",
              "  </thead>\n",
              "  <tbody>\n",
              "    <tr>\n",
              "      <th>0</th>\n",
              "      <td>189892290</td>\n",
              "      <td>1.0</td>\n",
              "      <td>0.0</td>\n",
              "      <td>0.0</td>\n",
              "      <td>0.0</td>\n",
              "      <td>0.0</td>\n",
              "    </tr>\n",
              "    <tr>\n",
              "      <th>1</th>\n",
              "      <td>181008451</td>\n",
              "      <td>16.0</td>\n",
              "      <td>0.0</td>\n",
              "      <td>0.0</td>\n",
              "      <td>0.0</td>\n",
              "      <td>0.0</td>\n",
              "    </tr>\n",
              "    <tr>\n",
              "      <th>2</th>\n",
              "      <td>141959692</td>\n",
              "      <td>1.0</td>\n",
              "      <td>0.0</td>\n",
              "      <td>1.0</td>\n",
              "      <td>0.0</td>\n",
              "      <td>0.0</td>\n",
              "    </tr>\n",
              "    <tr>\n",
              "      <th>3</th>\n",
              "      <td>OuTopos531</td>\n",
              "      <td>1.0</td>\n",
              "      <td>0.0</td>\n",
              "      <td>0.0</td>\n",
              "      <td>0.0</td>\n",
              "      <td>0.0</td>\n",
              "    </tr>\n",
              "    <tr>\n",
              "      <th>4</th>\n",
              "      <td>88143349</td>\n",
              "      <td>1.0</td>\n",
              "      <td>0.0</td>\n",
              "      <td>0.0</td>\n",
              "      <td>0.0</td>\n",
              "      <td>0.0</td>\n",
              "    </tr>\n",
              "    <tr>\n",
              "      <th>...</th>\n",
              "      <td>...</td>\n",
              "      <td>...</td>\n",
              "      <td>...</td>\n",
              "      <td>...</td>\n",
              "      <td>...</td>\n",
              "      <td>...</td>\n",
              "    </tr>\n",
              "    <tr>\n",
              "      <th>9678</th>\n",
              "      <td>191611318</td>\n",
              "      <td>0.0</td>\n",
              "      <td>0.0</td>\n",
              "      <td>3.0</td>\n",
              "      <td>1.0</td>\n",
              "      <td>0.0</td>\n",
              "    </tr>\n",
              "    <tr>\n",
              "      <th>9679</th>\n",
              "      <td>224115455</td>\n",
              "      <td>0.0</td>\n",
              "      <td>0.0</td>\n",
              "      <td>1.0</td>\n",
              "      <td>0.0</td>\n",
              "      <td>0.0</td>\n",
              "    </tr>\n",
              "    <tr>\n",
              "      <th>9680</th>\n",
              "      <td>220929267</td>\n",
              "      <td>0.0</td>\n",
              "      <td>0.0</td>\n",
              "      <td>1.0</td>\n",
              "      <td>1.0</td>\n",
              "      <td>0.0</td>\n",
              "    </tr>\n",
              "    <tr>\n",
              "      <th>9681</th>\n",
              "      <td>216257139</td>\n",
              "      <td>0.0</td>\n",
              "      <td>0.0</td>\n",
              "      <td>1.0</td>\n",
              "      <td>3.0</td>\n",
              "      <td>0.0</td>\n",
              "    </tr>\n",
              "    <tr>\n",
              "      <th>9682</th>\n",
              "      <td>197065724</td>\n",
              "      <td>0.0</td>\n",
              "      <td>0.0</td>\n",
              "      <td>1.0</td>\n",
              "      <td>0.0</td>\n",
              "      <td>0.0</td>\n",
              "    </tr>\n",
              "  </tbody>\n",
              "</table>\n",
              "<p>9683 rows × 6 columns</p>\n",
              "</div>"
            ],
            "text/plain": [
              "              Id  like_count  ...  reply_likes_count  post_quality\n",
              "0      189892290         1.0  ...                0.0           0.0\n",
              "1      181008451        16.0  ...                0.0           0.0\n",
              "2      141959692         1.0  ...                0.0           0.0\n",
              "3     OuTopos531         1.0  ...                0.0           0.0\n",
              "4       88143349         1.0  ...                0.0           0.0\n",
              "...          ...         ...  ...                ...           ...\n",
              "9678   191611318         0.0  ...                1.0           0.0\n",
              "9679   224115455         0.0  ...                0.0           0.0\n",
              "9680   220929267         0.0  ...                1.0           0.0\n",
              "9681   216257139         0.0  ...                3.0           0.0\n",
              "9682   197065724         0.0  ...                0.0           0.0\n",
              "\n",
              "[9683 rows x 6 columns]"
            ]
          },
          "metadata": {
            "tags": []
          },
          "execution_count": 9
        }
      ]
    },
    {
      "cell_type": "markdown",
      "metadata": {
        "id": "YE6It1MsLWSa"
      },
      "source": [
        "\n",
        "# KMeans算法\n",
        "\n",
        "\n",
        "\n",
        "\n",
        "\n"
      ]
    },
    {
      "cell_type": "code",
      "metadata": {
        "colab": {
          "base_uri": "https://localhost:8080/"
        },
        "id": "z75ZrgF8Cpqw",
        "outputId": "008a7ece-7325-46cc-d4d1-cf9339f74e20"
      },
      "source": [
        "from sklearn.cluster import KMeans\n",
        "X=df[['like_count','post_count','reply_count','reply_likes_count','post_quality']].values.tolist()\n",
        "estimator = KMeans(n_clusters=3)#构造聚类器\n",
        "estimator.fit(X)#聚类\n",
        "label_pred = estimator.labels_ #获取聚类标签\n",
        "print(label_pred)"
      ],
      "execution_count": null,
      "outputs": [
        {
          "output_type": "stream",
          "text": [
            "[0 0 0 ... 0 0 0]\n"
          ],
          "name": "stdout"
        }
      ]
    },
    {
      "cell_type": "markdown",
      "metadata": {
        "id": "FBnolH9HN8JX"
      },
      "source": [
        "* n_clusters:簇的个数，即你想聚成几类\n",
        "* init: 初始簇中心的获取方法\n",
        "* n_init: 获取初始簇中心的更迭次数，为了弥补初始质心的影响，算法默认会初始10个质心，实现算法，然后返回最好的结果。\n",
        "* max_iter: 最大迭代次数（因为kmeans算法的实现需要迭代）\n",
        "* tol: 容忍度，即kmeans运行准则收敛的条件\n",
        "* precompute_distances：是否需要提前计算距离，这个参数会在空间和时间之间做权衡，如果是True 会把整个距离矩阵都放到内存中，auto 会默认在数据样本大于featurs*samples 的数量大于12e6 的时候False,False 时核心实现的方法是利用Cpython 来实现的\n",
        "* verbose: 冗长模式（不太懂是啥意思，反正一般不去改默认值）\n",
        "* random_state: 随机生成簇中心的状态条件。\n",
        "* copy_x: 对是否修改数据的一个标记，如果True，即复制了就不会修改数据。bool 在scikit-learn 很多接口中都会有这个参数的，就是是否对输入数据继续copy 操作，以便不修改用户的输入数据。这个要理解Python 的内存机制才会比较清楚。\n",
        "* n_jobs: 并行设置\n",
        "* algorithm: kmeans的实现算法，有：’auto’, ‘full’, ‘elkan’, 其中 ‘full’表示用EM方式实现"
      ]
    },
    {
      "cell_type": "markdown",
      "metadata": {
        "id": "oP9B7s72ItsZ"
      },
      "source": [
        "当类别为3时，结果并不是很好"
      ]
    },
    {
      "cell_type": "code",
      "metadata": {
        "colab": {
          "base_uri": "https://localhost:8080/"
        },
        "id": "fT9YicMQHrTP",
        "outputId": "37f531b9-8c0b-4e4f-da3b-b7e1f1ee54c2"
      },
      "source": [
        "df['label']=label_pred\n",
        "df['label'].value_counts()"
      ],
      "execution_count": null,
      "outputs": [
        {
          "output_type": "execute_result",
          "data": {
            "text/plain": [
              "0    9619\n",
              "2      60\n",
              "1       4\n",
              "Name: label, dtype: int64"
            ]
          },
          "metadata": {
            "tags": []
          },
          "execution_count": 20
        }
      ]
    },
    {
      "cell_type": "code",
      "metadata": {
        "colab": {
          "base_uri": "https://localhost:8080/"
        },
        "id": "OHzrQi55JlYu",
        "outputId": "4cef23fd-e51e-44b1-dc68-629a4d160610"
      },
      "source": [
        "estimator=KMeans(n_clusters=4)\n",
        "estimator.fit(X)\n",
        "label_pred=estimator.labels_\n",
        "df['label']=label_pred\n",
        "df['label'].value_counts()"
      ],
      "execution_count": null,
      "outputs": [
        {
          "output_type": "execute_result",
          "data": {
            "text/plain": [
              "0    9609\n",
              "3      68\n",
              "2       4\n",
              "1       2\n",
              "Name: label, dtype: int64"
            ]
          },
          "metadata": {
            "tags": []
          },
          "execution_count": 21
        }
      ]
    },
    {
      "cell_type": "code",
      "metadata": {
        "colab": {
          "base_uri": "https://localhost:8080/"
        },
        "id": "GXwIbCVJK5e7",
        "outputId": "3f2791c8-b9ad-41ba-e63c-169e4ad25438"
      },
      "source": [
        "estimator=KMeans(n_clusters=5)\n",
        "estimator.fit(X)\n",
        "label_pred=estimator.labels_\n",
        "df['label']=label_pred\n",
        "df['label'].value_counts()"
      ],
      "execution_count": null,
      "outputs": [
        {
          "output_type": "execute_result",
          "data": {
            "text/plain": [
              "0    9562\n",
              "4     104\n",
              "2      13\n",
              "3       2\n",
              "1       2\n",
              "Name: label, dtype: int64"
            ]
          },
          "metadata": {
            "tags": []
          },
          "execution_count": 22
        }
      ]
    },
    {
      "cell_type": "code",
      "metadata": {
        "colab": {
          "base_uri": "https://localhost:8080/"
        },
        "id": "OkAbBPV6MqWu",
        "outputId": "1bb0151c-478f-4081-af02-ca41f19c6651"
      },
      "source": [
        "estimator=KMeans(n_clusters=6)\n",
        "estimator.fit(X)\n",
        "label_pred=estimator.labels_\n",
        "df['label']=label_pred\n",
        "df['label'].value_counts()"
      ],
      "execution_count": null,
      "outputs": [
        {
          "output_type": "execute_result",
          "data": {
            "text/plain": [
              "0    9470\n",
              "3     159\n",
              "5      26\n",
              "1      24\n",
              "4       2\n",
              "2       2\n",
              "Name: label, dtype: int64"
            ]
          },
          "metadata": {
            "tags": []
          },
          "execution_count": 23
        }
      ]
    },
    {
      "cell_type": "markdown",
      "metadata": {
        "id": "wxYnWFzENH7U"
      },
      "source": [
        "# SOM聚类"
      ]
    },
    {
      "cell_type": "code",
      "metadata": {
        "colab": {
          "base_uri": "https://localhost:8080/",
          "height": 393
        },
        "id": "shuQnt7rNMKy",
        "outputId": "d8172580-83a7-4294-a3dd-00e562cc63dd"
      },
      "source": [
        "%matplotlib inline\n",
        "from numpy import *\n",
        "import matplotlib.pyplot as plt\n",
        "import string\n",
        "\n",
        "class Kohonen(object):\n",
        "    def __init__(self):\n",
        "        self.lratemax=0.8   #最大学习率-欧式距离\n",
        "        self.lratemin=0.05  #最小学习率-欧式距离\n",
        "        self.rmax=5         #最大聚类半径--根据数据集\n",
        "        self.rmin=0.5       #最小聚类半径--根据数据集\n",
        "        self.Steps=1000     #迭代次数\n",
        "        self.lratelist=[]   #学习率收敛曲线\n",
        "        self.rlist=[]       #学习率半径曲线\n",
        "        self.w=[]           #权重向量组\n",
        "        self.M=2            # M*N表示聚类总数\n",
        "        self.N=2            #M、N表示邻域的参数\n",
        "        self.dataMat=[]     #外部导入数据集\n",
        "        self.classLabel=[]  #聚类后的类别标签\n",
        "\n",
        "    def loadDate(self,fileName):  #加载数据文件\n",
        "    \n",
        "        #fr=open(fileName)\n",
        "        #for line in fr.readlines():\n",
        "        #    curLine=line.strip().split(\"\\t\")\n",
        "        #    lineArr=[]\n",
        "        #    lineArr.append(float(curLine[0]))\n",
        "        #    lineArr.append(float(curLine[1]))\n",
        "        #    self.dataMat.append(lineArr)\n",
        "        self.dataMat=mat(self.dataMat)\n",
        "    \n",
        "        self.dataMat=X\n",
        "\n",
        "    def file2matrix(self,path, delimiter):\n",
        "        recordlist = []\n",
        "        fp = open(path)\n",
        "        content = fp.read()\n",
        "        fp.close()\n",
        "        rowlist = content.splitlines()  # 按行转换为一维表\n",
        "        # 逐行遍历      # 结果按分隔符分割为行向量\n",
        "        recordlist = [map(eval, row.split(delimiter)) for row in rowlist if row.strip()]\n",
        "        # 返回转换后的矩阵形式\n",
        "        self.dataMat = mat(recordlist)\n",
        "\n",
        "    def normalize(self,dataMat):\n",
        "        [m,n]=shape(dataMat)\n",
        "        for i in range(n):\n",
        "           dataMat[:,i] =(dataMat[:,i]-mean(dataMat[:,]))/std(dataMat[:,])\n",
        "        return dataMat\n",
        "\n",
        "    def distEclud(self,matA,matB):\n",
        "        ma, na = shape(matA);\n",
        "        mb, nb = shape(matB);\n",
        "        rtnmat = zeros((ma, nb))\n",
        "        for i in xrange(ma):\n",
        "            for j in xrange(nb):\n",
        "                rtnmat[i, j] = linalg.norm(matA[i, :] - matB[:, j].T)\n",
        "        return rtnmat\n",
        "\n",
        "    def init_grid(self): #初始化第二层网格\n",
        "        [m, n] = shape(self.dataMat)\n",
        "        k=0 #构建低二层网络模型\n",
        "        #数据集的维度即网格的维度，分类的个数即网格的行数\n",
        "        grid=mat(zeros((self.M*self.N,n)))\n",
        "        for i in range(self.M):\n",
        "            for j in range(self.N):\n",
        "                grid[k:]=[i,j]\n",
        "                k+=1\n",
        "        return grid\n",
        "        \n",
        "    def ratecalc(self,i):\n",
        "        lrate = self.lratemax - (i + 1.0) * (self.lratemax - self.lratemin) / self.Steps\n",
        "        r = self.rmax - ((i + 1.0) * (self.rmax - self.rmin)) / self.Steps\n",
        "        return lrate,r\n",
        "\n",
        "    #主程序\n",
        "    def train(self):\n",
        "        #1.构建输入层网络\n",
        "        dm,dn=shape(self.dataMat)\n",
        "        #归一化数据\n",
        "        #normDataSet=self.normalize(self.dataMat)\n",
        "        #2.初始化第二层分类网络\n",
        "        grid=self.init_grid()\n",
        "        #3.随机初始化两层之间的权重向量\n",
        "        self.w=random.rand(dn,self.M*self.N)\n",
        "        distM=self.distEclud  #确定距离公式\n",
        "        #4.迭代求解\n",
        "        if self.Steps<5*dm:self.Steps=5*dm  #设定最小迭代次数\n",
        "        for i in xrange(self.Steps):\n",
        "            lrate,r=self.ratecalc(i) #1.计算当前迭代次数下的学习率和学习聚类半径\n",
        "            self.lratelist.append(lrate);self.rlist.append(r)\n",
        "            #2.随机生成样本索引，并抽取一个样本\n",
        "            k=random.randint(0,dm)\n",
        "            mySample=self.dataMat[k,:]\n",
        "            #3.计算最优节点：返回最小距离的索引值\n",
        "            minIndx=(distM(mySample,self.w)).argmin()\n",
        "            #4.计算领域\n",
        "            d1=ceil(minIndx/self.M)  #计算此节点在第二层矩阵中的位置\n",
        "            d2=mod(minIndx,self.M)\n",
        "            distMat=distM(mat([d1,d2]),grid.T)\n",
        "            nodelindx=(distMat<r).nonzero()[1] #获取领域内的所有点\n",
        "            for j in xrange(shape(self.w)[1]):\n",
        "                if sum(nodelindx==j):\n",
        "                    self.w[:,j]=self.w[:,j]+lrate*(mySample[0]-self.w[:,j])\n",
        "        #主循环结束\n",
        "\n",
        "        self.classLabel=range(dm) #分配和存储聚类后的类别标签\n",
        "        for i in xrange(dm):\n",
        "            self.classLabel[i]=distM(normDataSet[i,:],self.w).argmin()\n",
        "        self.classLabel=mat(self.classLabel)\n",
        "\n",
        "    def showCluster(self,plt): #绘图\n",
        "        lst=unique(self.classLabel.tolist()[0]) #去重\n",
        "        i=0\n",
        "        for cindx in lst:\n",
        "            myclass = nonzero(self.classLabel==cindx)[1]\n",
        "            xx=self.dataMat[myclass].copy()\n",
        "            if i==0: plt.plot(xx[:,0],xx[:,1],'bo')\n",
        "            elif i==1:plt.plot(xx[:,0],xx[:,1],'rd')\n",
        "            elif i==2:plt.plot(xx[:,0],xx[:,1],'gD')\n",
        "            elif i==3:plt.plot(xx[:,0],xx[:,1],'c^')\n",
        "            i+=1\n",
        "        plt.show()\n",
        "\n",
        "if __name__==\"__main__\":\n",
        "\n",
        "    SOMNet=Kohonen()\n",
        "    SOMNet.loadDate('dataset2.txt')\n",
        "    SOMNet.train()\n",
        "    SOMNet.showCluster(plt)\n",
        "\n"
      ],
      "execution_count": null,
      "outputs": [
        {
          "output_type": "error",
          "ename": "ValueError",
          "evalue": "ignored",
          "traceback": [
            "\u001b[0;31m---------------------------------------------------------------------------\u001b[0m",
            "\u001b[0;31mValueError\u001b[0m                                Traceback (most recent call last)",
            "\u001b[0;32m<ipython-input-30-c2bb8bc61434>\u001b[0m in \u001b[0;36m<module>\u001b[0;34m()\u001b[0m\n\u001b[1;32m    126\u001b[0m     \u001b[0mSOMNet\u001b[0m\u001b[0;34m=\u001b[0m\u001b[0mKohonen\u001b[0m\u001b[0;34m(\u001b[0m\u001b[0;34m)\u001b[0m\u001b[0;34m\u001b[0m\u001b[0;34m\u001b[0m\u001b[0m\n\u001b[1;32m    127\u001b[0m     \u001b[0mSOMNet\u001b[0m\u001b[0;34m.\u001b[0m\u001b[0mloadDate\u001b[0m\u001b[0;34m(\u001b[0m\u001b[0;34m'dataset2.txt'\u001b[0m\u001b[0;34m)\u001b[0m\u001b[0;34m\u001b[0m\u001b[0;34m\u001b[0m\u001b[0m\n\u001b[0;32m--> 128\u001b[0;31m     \u001b[0mSOMNet\u001b[0m\u001b[0;34m.\u001b[0m\u001b[0mtrain\u001b[0m\u001b[0;34m(\u001b[0m\u001b[0;34m)\u001b[0m\u001b[0;34m\u001b[0m\u001b[0;34m\u001b[0m\u001b[0m\n\u001b[0m\u001b[1;32m    129\u001b[0m     \u001b[0mSOMNet\u001b[0m\u001b[0;34m.\u001b[0m\u001b[0mshowCluster\u001b[0m\u001b[0;34m(\u001b[0m\u001b[0mplt\u001b[0m\u001b[0;34m)\u001b[0m\u001b[0;34m\u001b[0m\u001b[0;34m\u001b[0m\u001b[0m\n\u001b[1;32m    130\u001b[0m \u001b[0;34m\u001b[0m\u001b[0m\n",
            "\u001b[0;32m<ipython-input-30-c2bb8bc61434>\u001b[0m in \u001b[0;36mtrain\u001b[0;34m(self)\u001b[0m\n\u001b[1;32m     80\u001b[0m         \u001b[0;31m#normDataSet=self.normalize(self.dataMat)\u001b[0m\u001b[0;34m\u001b[0m\u001b[0;34m\u001b[0m\u001b[0;34m\u001b[0m\u001b[0m\n\u001b[1;32m     81\u001b[0m         \u001b[0;31m#2.初始化第二层分类网络\u001b[0m\u001b[0;34m\u001b[0m\u001b[0;34m\u001b[0m\u001b[0;34m\u001b[0m\u001b[0m\n\u001b[0;32m---> 82\u001b[0;31m         \u001b[0mgrid\u001b[0m\u001b[0;34m=\u001b[0m\u001b[0mself\u001b[0m\u001b[0;34m.\u001b[0m\u001b[0minit_grid\u001b[0m\u001b[0;34m(\u001b[0m\u001b[0;34m)\u001b[0m\u001b[0;34m\u001b[0m\u001b[0;34m\u001b[0m\u001b[0m\n\u001b[0m\u001b[1;32m     83\u001b[0m         \u001b[0;31m#3.随机初始化两层之间的权重向量\u001b[0m\u001b[0;34m\u001b[0m\u001b[0;34m\u001b[0m\u001b[0;34m\u001b[0m\u001b[0m\n\u001b[1;32m     84\u001b[0m         \u001b[0mself\u001b[0m\u001b[0;34m.\u001b[0m\u001b[0mw\u001b[0m\u001b[0;34m=\u001b[0m\u001b[0mrandom\u001b[0m\u001b[0;34m.\u001b[0m\u001b[0mrand\u001b[0m\u001b[0;34m(\u001b[0m\u001b[0mdn\u001b[0m\u001b[0;34m,\u001b[0m\u001b[0mself\u001b[0m\u001b[0;34m.\u001b[0m\u001b[0mM\u001b[0m\u001b[0;34m*\u001b[0m\u001b[0mself\u001b[0m\u001b[0;34m.\u001b[0m\u001b[0mN\u001b[0m\u001b[0;34m)\u001b[0m\u001b[0;34m\u001b[0m\u001b[0;34m\u001b[0m\u001b[0m\n",
            "\u001b[0;32m<ipython-input-30-c2bb8bc61434>\u001b[0m in \u001b[0;36minit_grid\u001b[0;34m(self)\u001b[0m\n\u001b[1;32m     65\u001b[0m         \u001b[0;32mfor\u001b[0m \u001b[0mi\u001b[0m \u001b[0;32min\u001b[0m \u001b[0mrange\u001b[0m\u001b[0;34m(\u001b[0m\u001b[0mself\u001b[0m\u001b[0;34m.\u001b[0m\u001b[0mM\u001b[0m\u001b[0;34m)\u001b[0m\u001b[0;34m:\u001b[0m\u001b[0;34m\u001b[0m\u001b[0;34m\u001b[0m\u001b[0m\n\u001b[1;32m     66\u001b[0m             \u001b[0;32mfor\u001b[0m \u001b[0mj\u001b[0m \u001b[0;32min\u001b[0m \u001b[0mrange\u001b[0m\u001b[0;34m(\u001b[0m\u001b[0mself\u001b[0m\u001b[0;34m.\u001b[0m\u001b[0mN\u001b[0m\u001b[0;34m)\u001b[0m\u001b[0;34m:\u001b[0m\u001b[0;34m\u001b[0m\u001b[0;34m\u001b[0m\u001b[0m\n\u001b[0;32m---> 67\u001b[0;31m                 \u001b[0mgrid\u001b[0m\u001b[0;34m[\u001b[0m\u001b[0mk\u001b[0m\u001b[0;34m:\u001b[0m\u001b[0;34m]\u001b[0m\u001b[0;34m=\u001b[0m\u001b[0;34m[\u001b[0m\u001b[0mi\u001b[0m\u001b[0;34m,\u001b[0m\u001b[0mj\u001b[0m\u001b[0;34m]\u001b[0m\u001b[0;34m\u001b[0m\u001b[0;34m\u001b[0m\u001b[0m\n\u001b[0m\u001b[1;32m     68\u001b[0m                 \u001b[0mk\u001b[0m\u001b[0;34m+=\u001b[0m\u001b[0;36m1\u001b[0m\u001b[0;34m\u001b[0m\u001b[0;34m\u001b[0m\u001b[0m\n\u001b[1;32m     69\u001b[0m         \u001b[0;32mreturn\u001b[0m \u001b[0mgrid\u001b[0m\u001b[0;34m\u001b[0m\u001b[0;34m\u001b[0m\u001b[0m\n",
            "\u001b[0;31mValueError\u001b[0m: could not broadcast input array from shape (2) into shape (4,5)"
          ]
        }
      ]
    },
    {
      "cell_type": "code",
      "metadata": {
        "colab": {
          "base_uri": "https://localhost:8080/"
        },
        "id": "K2uBER_3jCgC",
        "outputId": "f7cbe905-ed17-43c0-d926-dbbe56c30340"
      },
      "source": [
        "import numpy as np\n",
        "a = np.random.randint(50,size= (4,5))\n",
        "print(a)\n",
        "print(a.argmax(axis=1))"
      ],
      "execution_count": null,
      "outputs": [
        {
          "output_type": "stream",
          "text": [
            "[[ 1 39 11 19 14]\n",
            " [16 43  2 47  3]\n",
            " [38 23 16 41 26]\n",
            " [29 14 41 49 39]]\n",
            "[1 3 3 3]\n"
          ],
          "name": "stdout"
        }
      ]
    }
  ]
}