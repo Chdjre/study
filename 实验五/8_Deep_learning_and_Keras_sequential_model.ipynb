{
 "cells": [
  {
   "cell_type": "markdown",
   "metadata": {},
   "source": [
    "# 使用Keras序贯模型API进行结构化数据分类\n",
    "序贯模型优势（sequential）：简单易操作，不需要对神经元进行复杂的定义及架构网络。能够通过序贯模型API中定义好的网络层线性进行堆叠构建模型。"
   ]
  },
  {
   "cell_type": "markdown",
   "metadata": {},
   "source": [
    "## 构建模拟数据集"
   ]
  },
  {
   "cell_type": "code",
   "execution_count": 1,
   "metadata": {},
   "outputs": [
    {
     "name": "stderr",
     "output_type": "stream",
     "text": [
      "Using TensorFlow backend.\n",
      "/Users/slyfox/opt/anaconda3/lib/python3.7/site-packages/tensorflow/python/framework/dtypes.py:526: FutureWarning: Passing (type, 1) or '1type' as a synonym of type is deprecated; in a future version of numpy, it will be understood as (type, (1,)) / '(1,)type'.\n",
      "  _np_qint8 = np.dtype([(\"qint8\", np.int8, 1)])\n",
      "/Users/slyfox/opt/anaconda3/lib/python3.7/site-packages/tensorflow/python/framework/dtypes.py:527: FutureWarning: Passing (type, 1) or '1type' as a synonym of type is deprecated; in a future version of numpy, it will be understood as (type, (1,)) / '(1,)type'.\n",
      "  _np_quint8 = np.dtype([(\"quint8\", np.uint8, 1)])\n",
      "/Users/slyfox/opt/anaconda3/lib/python3.7/site-packages/tensorflow/python/framework/dtypes.py:528: FutureWarning: Passing (type, 1) or '1type' as a synonym of type is deprecated; in a future version of numpy, it will be understood as (type, (1,)) / '(1,)type'.\n",
      "  _np_qint16 = np.dtype([(\"qint16\", np.int16, 1)])\n",
      "/Users/slyfox/opt/anaconda3/lib/python3.7/site-packages/tensorflow/python/framework/dtypes.py:529: FutureWarning: Passing (type, 1) or '1type' as a synonym of type is deprecated; in a future version of numpy, it will be understood as (type, (1,)) / '(1,)type'.\n",
      "  _np_quint16 = np.dtype([(\"quint16\", np.uint16, 1)])\n",
      "/Users/slyfox/opt/anaconda3/lib/python3.7/site-packages/tensorflow/python/framework/dtypes.py:530: FutureWarning: Passing (type, 1) or '1type' as a synonym of type is deprecated; in a future version of numpy, it will be understood as (type, (1,)) / '(1,)type'.\n",
      "  _np_qint32 = np.dtype([(\"qint32\", np.int32, 1)])\n",
      "/Users/slyfox/opt/anaconda3/lib/python3.7/site-packages/tensorflow/python/framework/dtypes.py:535: FutureWarning: Passing (type, 1) or '1type' as a synonym of type is deprecated; in a future version of numpy, it will be understood as (type, (1,)) / '(1,)type'.\n",
      "  np_resource = np.dtype([(\"resource\", np.ubyte, 1)])\n"
     ]
    },
    {
     "name": "stdout",
     "output_type": "stream",
     "text": [
      "X特征数据的部分示例为：\n",
      " [[-8.58670037e-01  5.42011374e+00 -4.48922577e+00  6.63658152e+00\n",
      "   7.50453954e+00  5.09286743e+00  5.71528089e-01 -6.93762039e+00\n",
      "  -4.71649961e+00 -3.27139157e+00 -1.82521943e+00  6.96716951e-01\n",
      "  -1.08094614e-03 -6.11410991e+00  6.66636944e+00  5.72958155e+00\n",
      "   6.69346435e+00 -4.18317262e+00  2.20232743e+00  3.08481356e+00]]\n",
      "y标签数据的部分示例为：\n",
      " [1 0 1 1 0 2 1 2 2 1]\n",
      "哑编码后的y标签特征为：\n",
      " [[0. 1. 0.]\n",
      " [1. 0. 0.]\n",
      " [0. 1. 0.]\n",
      " [0. 1. 0.]\n",
      " [1. 0. 0.]\n",
      " [0. 0. 1.]\n",
      " [0. 1. 0.]\n",
      " [0. 0. 1.]\n",
      " [0. 0. 1.]\n",
      " [0. 1. 0.]]\n"
     ]
    }
   ],
   "source": [
    "from sklearn.datasets import make_blobs\n",
    "from sklearn.model_selection import train_test_split\n",
    "import keras\n",
    "\n",
    "X, y = make_blobs(n_samples=1000, # 1000个样本\n",
    "                 n_features=20, # 每个样本20个特征\n",
    "                 centers=3, # 3个中心\n",
    "                 random_state=21 #控制随机性\n",
    "                 )\n",
    "\n",
    "print(\"X特征数据的部分示例为：\\n\", X[:1])\n",
    "print(\"y标签数据的部分示例为：\\n\", y[:10])\n",
    "\n",
    "# 将y进行哑编码\n",
    "y = keras.utils.to_categorical(y, num_classes=3)\n",
    "\n",
    "print(\"哑编码后的y标签特征为：\\n\", y[:10])\n",
    "\n",
    "# 拆分训练集测试集\n",
    "X_train, X_test, y_train, y_test = train_test_split(X, y,test_size=0.2,random_state=21)"
   ]
  },
  {
   "cell_type": "markdown",
   "metadata": {},
   "source": [
    "### 使用全连接构建神经网络"
   ]
  },
  {
   "cell_type": "code",
   "execution_count": 2,
   "metadata": {},
   "outputs": [
    {
     "name": "stdout",
     "output_type": "stream",
     "text": [
      "WARNING:tensorflow:From /Users/slyfox/opt/anaconda3/lib/python3.7/site-packages/tensorflow/python/ops/resource_variable_ops.py:435: colocate_with (from tensorflow.python.framework.ops) is deprecated and will be removed in a future version.\n",
      "Instructions for updating:\n",
      "Colocations handled automatically by placer.\n"
     ]
    }
   ],
   "source": [
    "from keras.models import Sequential\n",
    "from keras.layers import Dense, Activation\n",
    "\n",
    "model = Sequential()\n",
    "model.add(Dense(10, input_shape=(20,)))\n",
    "model.add(Activation('relu'))\n",
    "model.add(Dense(units=3))\n",
    "model.add(Activation(\"softmax\"))"
   ]
  },
  {
   "cell_type": "markdown",
   "metadata": {},
   "source": [
    "### 编译模型\n",
    "\n",
    "在训练模型之前，我们需要通过compile来对学习过程进行配置。compile接收三个参数：\n",
    "\n",
    "- **优化器optimizer**：该参数可指定为已预定义的优化器名，如rmsprop、adagrad，或一个Optimizer类的对象，详情见[optimizers](https://keras.io/zh/optimizers/)\n",
    "- **损失函数loss**：该参数为模型试图最小化的目标函数，它可为预定义的损失函数名，如categorical_crossentropy、mse，也可以为一个损失函数。详情见[losses](https://keras.io/zh/losses/)\n",
    "- **指标列表metrics**：对分类问题，我们一般将该列表设置为metrics=['accuracy']。指标可以是一个预定义指标的名字,也可以是一个用户定制的函数.指标函数应该返回单个张量,或一个完成metric_name - > metric_value映射的字典.请参考[性能评估](https://keras.io/zh/metrics/)\n",
    "\n",
    "在面对不同分类问题，如二分类、多分类、回归问题时，优化其与损失函数需要进行调整"
   ]
  },
  {
   "cell_type": "code",
   "execution_count": 3,
   "metadata": {},
   "outputs": [],
   "source": [
    "# 多分类问题\n",
    "model.compile(optimizer='rmsprop',\n",
    "              loss='categorical_crossentropy',\n",
    "              metrics=['accuracy'])"
   ]
  },
  {
   "cell_type": "markdown",
   "metadata": {},
   "source": [
    "### 查看构建的模型网络"
   ]
  },
  {
   "cell_type": "code",
   "execution_count": 4,
   "metadata": {},
   "outputs": [
    {
     "name": "stdout",
     "output_type": "stream",
     "text": [
      "Model: \"sequential_1\"\n",
      "_________________________________________________________________\n",
      "Layer (type)                 Output Shape              Param #   \n",
      "=================================================================\n",
      "dense_1 (Dense)              (None, 10)                210       \n",
      "_________________________________________________________________\n",
      "activation_1 (Activation)    (None, 10)                0         \n",
      "_________________________________________________________________\n",
      "dense_2 (Dense)              (None, 3)                 33        \n",
      "_________________________________________________________________\n",
      "activation_2 (Activation)    (None, 3)                 0         \n",
      "=================================================================\n",
      "Total params: 243\n",
      "Trainable params: 243\n",
      "Non-trainable params: 0\n",
      "_________________________________________________________________\n"
     ]
    }
   ],
   "source": [
    "# 查看模型结构\n",
    "model.summary()"
   ]
  },
  {
   "cell_type": "markdown",
   "metadata": {},
   "source": [
    "### 训练模型\n",
    "如果可以一次性读入数据，可以采用fit函数，如果数据量很大，需要用到fit_generator"
   ]
  },
  {
   "cell_type": "code",
   "execution_count": 5,
   "metadata": {},
   "outputs": [
    {
     "name": "stdout",
     "output_type": "stream",
     "text": [
      "WARNING:tensorflow:From /Users/slyfox/opt/anaconda3/lib/python3.7/site-packages/tensorflow/python/ops/math_ops.py:3066: to_int32 (from tensorflow.python.ops.math_ops) is deprecated and will be removed in a future version.\n",
      "Instructions for updating:\n",
      "Use tf.cast instead.\n",
      "Epoch 1/5\n",
      "800/800 [==============================] - 0s 162us/step - loss: 2.8443 - accuracy: 0.6375\n",
      "Epoch 2/5\n",
      "800/800 [==============================] - 0s 42us/step - loss: 0.8330 - accuracy: 0.7287\n",
      "Epoch 3/5\n",
      "800/800 [==============================] - 0s 44us/step - loss: 0.0742 - accuracy: 0.9825\n",
      "Epoch 4/5\n",
      "800/800 [==============================] - 0s 43us/step - loss: 0.0134 - accuracy: 1.0000\n",
      "Epoch 5/5\n",
      "800/800 [==============================] - 0s 37us/step - loss: 0.0035 - accuracy: 1.0000\n"
     ]
    }
   ],
   "source": [
    "network_history = model.fit(X_train, y_train, epochs=5, batch_size=32, verbose=1)"
   ]
  },
  {
   "cell_type": "markdown",
   "metadata": {},
   "source": [
    "### 可视化训练信息"
   ]
  },
  {
   "cell_type": "code",
   "execution_count": 6,
   "metadata": {},
   "outputs": [
    {
     "data": {
      "image/png": "[encoded data removed]",
      "text/plain": [
       "<Figure size 432x288 with 1 Axes>"
      ]
     },
     "metadata": {
      "needs_background": "light"
     },
     "output_type": "display_data"
    },
    {
     "data": {
      "image/png": "[encoded data removed]",
      "text/plain": [
       "<Figure size 432x288 with 1 Axes>"
      ]
     },
     "metadata": {
      "needs_background": "light"
     },
     "output_type": "display_data"
    }
   ],
   "source": [
    "import matplotlib.pyplot as plt\n",
    "%matplotlib inline\n",
    "\n",
    "def plot_history(network_history):\n",
    "    plt.figure()\n",
    "    plt.xlabel('Epochs')\n",
    "    plt.ylabel('Loss')\n",
    "    plt.plot(network_history.history['loss'])\n",
    "    plt.legend(['Training'])\n",
    "\n",
    "    plt.figure()\n",
    "    plt.xlabel('Epochs')\n",
    "    plt.ylabel('Accuracy')\n",
    "    plt.plot(network_history.history['accuracy'])\n",
    "    plt.legend(['Training'], loc='lower right')\n",
    "    plt.show()\n",
    "\n",
    "plot_history(network_history)"
   ]
  },
  {
   "cell_type": "code",
   "execution_count": 7,
   "metadata": {},
   "outputs": [
    {
     "name": "stdout",
     "output_type": "stream",
     "text": [
      "200/200 [==============================] - 0s 214us/step\n"
     ]
    }
   ],
   "source": [
    "loss_and_metrics = model.evaluate(X_test, y_test, batch_size=128)"
   ]
  },
  {
   "cell_type": "code",
   "execution_count": 8,
   "metadata": {},
   "outputs": [
    {
     "name": "stdout",
     "output_type": "stream",
     "text": [
      "最终的损失和准确率为：\n",
      " [0.0016560047678649426, 1.0]\n",
      "模型预测测试集合X所属标签为：\n",
      " [[9.9631017e-01 3.6898509e-03 1.7257001e-08]\n",
      " [9.3188164e-06 9.9999058e-01 8.1176267e-08]\n",
      " [1.0980148e-05 9.9998903e-01 2.9924902e-08]\n",
      " [1.7962944e-05 9.9998164e-01 3.1600175e-07]\n",
      " [1.0123017e-03 1.6744294e-04 9.9882025e-01]]\n"
     ]
    }
   ],
   "source": [
    "classes = model.predict(X_test, batch_size=128)\n",
    "\n",
    "print(\"最终的损失和准确率为：\\n\", loss_and_metrics)\n",
    "print(\"模型预测测试集合X所属标签为：\\n\", classes[:5])"
   ]
  },
  {
   "cell_type": "markdown",
   "metadata": {},
   "source": [
    "### 模型存储与加载"
   ]
  },
  {
   "cell_type": "code",
   "execution_count": 12,
   "metadata": {},
   "outputs": [
    {
     "name": "stdout",
     "output_type": "stream",
     "text": [
      "Model saved!\n"
     ]
    }
   ],
   "source": [
    "# 模型的存储\n",
    "pm = \"./practice_model.h5\"\n",
    "model.save(pm)\n",
    "print(\"Model saved!\")"
   ]
  },
  {
   "cell_type": "code",
   "execution_count": 19,
   "metadata": {},
   "outputs": [
    {
     "name": "stdout",
     "output_type": "stream",
     "text": [
      "Loading model...\n",
      "Using loaded model to predict...\n",
      "[[-10.17210708  -3.58922416   5.17417356  -9.5574506   -7.87330204\n",
      "   -8.09135139  -4.01403668   2.48937621  -4.37548755   1.66324393\n",
      "   -8.57891609   7.99868972  -6.71565823  -6.72988981   0.24867309\n",
      "    8.91876749   5.02343558   7.98951665   7.16450934  -3.60671097]]\n",
      "预测结果为：\n",
      " [[9.9631017e-01 3.6898509e-03 1.7257001e-08]]\n"
     ]
    }
   ],
   "source": [
    "# 加载存储的模型开始预测\n",
    "from keras.models import load_model\n",
    "\n",
    "print(\"Loading model...\")\n",
    "load_model = load_model(\"./practice_model.h5\")\n",
    "\n",
    "# 使用测试集中的第一条开始预测\n",
    "print(\"Using loaded model to predict...\")\n",
    "predicted = load_model.predict(X_test[:1])\n",
    "\n",
    "# 呈现预测结果\n",
    "print(\"预测结果为：\\n\", predicted)"
   ]
  },
  {
   "cell_type": "code",
   "execution_count": null,
   "metadata": {},
   "outputs": [],
   "source": []
  }
 ],
 "metadata": {
  "kernelspec": {
   "display_name": "Python 3",
   "language": "python",
   "name": "python3"
  },
  "language_info": {
   "codemirror_mode": {
    "name": "ipython",
    "version": 3
   },
   "file_extension": ".py",
   "mimetype": "text/x-python",
   "name": "python",
   "nbconvert_exporter": "python",
   "pygments_lexer": "ipython3",
   "version": "3.7.4"
  }
 },
 "nbformat": 4,
 "nbformat_minor": 2
}
